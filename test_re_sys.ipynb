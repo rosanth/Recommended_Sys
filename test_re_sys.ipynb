{
  "nbformat": 4,
  "nbformat_minor": 0,
  "metadata": {
    "colab": {
      "provenance": [],
      "authorship_tag": "ABX9TyPCNwrMeq6RG7wZ8RMX3V7c",
      "include_colab_link": true
    },
    "kernelspec": {
      "name": "python3",
      "display_name": "Python 3"
    },
    "language_info": {
      "name": "python"
    }
  },
  "cells": [
    {
      "cell_type": "markdown",
      "metadata": {
        "id": "view-in-github",
        "colab_type": "text"
      },
      "source": [
        "<a href=\"https://colab.research.google.com/github/rosanth/Recommended_Sys/blob/Sajeevan/test_re_sys.ipynb\" target=\"_parent\"><img src=\"https://colab.research.google.com/assets/colab-badge.svg\" alt=\"Open In Colab\"/></a>"
      ]
    },
    {
      "cell_type": "code",
      "source": [
        "!pip install pymupdf\n",
        "!pip install pyngrok\n",
        "!pip install flask pyngrok\n",
        "from flask import Flask, request, jsonify, render_template_string\n",
        "from werkzeug.utils import secure_filename\n",
        "from pyngrok import ngrok\n",
        "import os\n",
        "import re\n",
        "import fitz\n",
        "import numpy as np\n",
        "from sklearn.metrics.pairwise import cosine_similarity\n",
        "from sentence_transformers import SentenceTransformer"
      ],
      "metadata": {
        "id": "-OH98ac33-64"
      },
      "execution_count": null,
      "outputs": []
    },
    {
      "cell_type": "code",
      "source": [
        "# HTML code embedded in Flask app\n",
        "html_code = '''\n",
        "\n",
        "\n",
        "'''"
      ],
      "metadata": {
        "id": "iUUvZNu5SpiG"
      },
      "execution_count": null,
      "outputs": []
    },
    {
      "cell_type": "code",
      "execution_count": null,
      "metadata": {
        "id": "TqTo_ced3mk4"
      },
      "outputs": [],
      "source": [
        "\n",
        "\n",
        "# Initialize Flask app\n",
        "app = Flask(__name__)\n",
        "\n",
        "# Load Pretrained Sentence Embeddings Model (BERT-based)\n",
        "bert_model = SentenceTransformer(\"all-MiniLM-L6-v2\")\n",
        "\n",
        "# Function to preprocess text\n",
        "def preprocess_text(text):\n",
        "    text = text.lower()\n",
        "    text = re.sub(r'[^a-zA-Z0-9\\s]', '', text)\n",
        "    return text.strip()\n",
        "\n",
        "# Function to extract resume text from PDF\n",
        "def extract_text_from_pdf(pdf_path):\n",
        "    doc = fitz.open(pdf_path)\n",
        "    text = \"\"\n",
        "    for page in doc:\n",
        "        text += page.get_text(\"text\") + \"\\n\"\n",
        "    return preprocess_text(text.strip())\n",
        "\n",
        "# Function to compute similarity\n",
        "def compute_similarity(pdf_path, job_desc):\n",
        "    job_embeddings = np.array([bert_model.encode(preprocess_text(job)) for job in job_desc])\n",
        "    resume_text = extract_text_from_pdf(pdf_path)\n",
        "    resume_embedding = bert_model.encode(resume_text)\n",
        "    real_resume_similarity = cosine_similarity([resume_embedding], job_embeddings)[0]\n",
        "    sorted_jobs = np.argsort(-real_resume_similarity)\n",
        "\n",
        "    # Prepare response\n",
        "    results = []\n",
        "    for idx in sorted_jobs:\n",
        "        results.append({\"job_title\": job_desc[idx], \"similarity_score\": float(real_resume_similarity[idx])})\n",
        "    return results\n",
        "\n",
        "\n",
        "\n",
        "# Route to render the HTML\n",
        "@app.route(\"/\")\n",
        "def home():\n",
        "    return render_template_string(html_code)\n",
        "\n",
        "# Route to handle file upload and process resume\n",
        "@app.route(\"/upload\", methods=[\"POST\"])\n",
        "def upload():\n",
        "    if \"resume\" not in request.files or \"job_descriptions\" not in request.form:\n",
        "        return jsonify({\"error\": \"Missing file or job descriptions\"}), 400\n",
        "    file = request.files[\"resume\"]\n",
        "    job_descriptions = request.form[\"job_descriptions\"].splitlines()\n",
        "\n",
        "    # Save the file temporarily\n",
        "    filename = secure_filename(file.filename)\n",
        "    filepath = os.path.join(\"/tmp\", filename)\n",
        "    file.save(filepath)\n",
        "\n",
        "    # Compute similarity\n",
        "    results = compute_similarity(filepath, job_descriptions)\n",
        "\n",
        "    # Render results in the HTML\n",
        "    return render_template_string(html_code, results=results)\n",
        "\n",
        "# ============================ NGROK SETUP ============================ #\n",
        "# Add your ngrok authtoken (Replace 'YOUR_AUTHTOKEN' with actual token)\n",
        "NGROK_AUTH_TOKEN = \"2uB8nIyyiphrSbk0IZgp3KTFIqR_4pdXPSnZ45FdABkqkjbJq\"\n",
        "os.system(f\"ngrok config add-authtoken {NGROK_AUTH_TOKEN}\")\n",
        "\n",
        "# Start ngrok tunnel to expose the app\n",
        "public_url = ngrok.connect(5000).public_url\n",
        "print(f\"Public URL: {public_url}\")\n",
        "\n",
        "# Run Flask app\n",
        "if __name__ == \"__main__\":\n",
        "    app.run(port=5000)\n"
      ]
    }
  ]
}