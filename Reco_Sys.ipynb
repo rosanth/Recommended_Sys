{
  "nbformat": 4,
  "nbformat_minor": 0,
  "metadata": {
    "colab": {
      "provenance": [],
      "authorship_tag": "ABX9TyPsjhhj8OhOzGuUyQ6Y71FJ",
      "include_colab_link": true
    },
    "kernelspec": {
      "name": "python3",
      "display_name": "Python 3"
    },
    "language_info": {
      "name": "python"
    }
  },
  "cells": [
    {
      "cell_type": "markdown",
      "metadata": {
        "id": "view-in-github",
        "colab_type": "text"
      },
      "source": [
        "<a href=\"https://colab.research.google.com/github/rosanth/Recommended_Sys/blob/Sajeevan/Reco_Sys.ipynb\" target=\"_parent\"><img src=\"https://colab.research.google.com/assets/colab-badge.svg\" alt=\"Open In Colab\"/></a>"
      ]
    },
    {
      "cell_type": "code",
      "source": [
        "!pip install pymupdf"
      ],
      "metadata": {
        "id": "c5bsomlsr-LU"
      },
      "execution_count": null,
      "outputs": []
    },
    {
      "cell_type": "code",
      "source": [
        "import fitz  #\n",
        "import tensorflow as tf\n",
        "from tensorflow import keras\n",
        "from tensorflow.keras.layers import TextVectorization, Embedding, LSTM, Dense, Dropout\n",
        "import numpy as np\n",
        "import re"
      ],
      "metadata": {
        "id": "kHwScmPSr_6S"
      },
      "execution_count": null,
      "outputs": []
    },
    {
      "cell_type": "code",
      "execution_count": 19,
      "metadata": {
        "colab": {
          "base_uri": "https://localhost:8080/"
        },
        "id": "B0uqNp4ke8OZ",
        "outputId": "dcfef78c-9f84-441f-ce5f-9bf63ca6c32f"
      },
      "outputs": [
        {
          "output_type": "stream",
          "name": "stdout",
          "text": [
            "Requirement already satisfied: pymupdf in /usr/local/lib/python3.11/dist-packages (1.25.3)\n",
            "Sajeevan Jeyakumar sajeevanoffi gmail.com  94753714767 131, Hospital Front Lane, Chenkalady linkedin.com in sajeevan  jeyakumar 987ba91ba PROFILE Enthusiastic and hardworking graduate seeking an entry level position to utilize my skills, gain experience, and contribute to the growth of the organization while advancing my personal and professional development LANGUAGES Tamil English EDUCATION Higher Diploma in Software Engineering Wayamba University of Srilanka present Advanced Level BT KK Chenkalady Central College 08 2016   Chenkalady, Srilanka Ordinary Level BT KK Chenkalady Central College 12 2013   Chenakalady, Srilanka SKILLS Python  Python Programming, Data Structures, Web Scraping, API Interaction, Data Manipulation, File Handling Java  Java Programming, Object Oriented Design, GUI Development, File Handling, Exception Handling, Database Connectivity Power BI  Data Visualization, Data Modeling, Using DAX, Report Customization, Interactive Capabilities MS Office  Microsoft Excel, Micorsoft Word, Microsoft One note CERTIFICATES AI For Everyone Power BI for Beginners Using Python to Access Web Data Python Data Structures Programming for Everybody  Getting Started with Python\n",
            "Epoch 1/10\n",
            "\u001b[1m1/1\u001b[0m \u001b[32m━━━━━━━━━━━━━━━━━━━━\u001b[0m\u001b[37m\u001b[0m \u001b[1m5s\u001b[0m 5s/step - accuracy: 0.0000e+00 - loss: 0.6959\n",
            "Epoch 2/10\n",
            "\u001b[1m1/1\u001b[0m \u001b[32m━━━━━━━━━━━━━━━━━━━━\u001b[0m\u001b[37m\u001b[0m \u001b[1m0s\u001b[0m 137ms/step - accuracy: 1.0000 - loss: 0.6907\n",
            "Epoch 3/10\n",
            "\u001b[1m1/1\u001b[0m \u001b[32m━━━━━━━━━━━━━━━━━━━━\u001b[0m\u001b[37m\u001b[0m \u001b[1m0s\u001b[0m 80ms/step - accuracy: 1.0000 - loss: 0.6781\n",
            "Epoch 4/10\n",
            "\u001b[1m1/1\u001b[0m \u001b[32m━━━━━━━━━━━━━━━━━━━━\u001b[0m\u001b[37m\u001b[0m \u001b[1m0s\u001b[0m 79ms/step - accuracy: 1.0000 - loss: 0.6636\n",
            "Epoch 5/10\n",
            "\u001b[1m1/1\u001b[0m \u001b[32m━━━━━━━━━━━━━━━━━━━━\u001b[0m\u001b[37m\u001b[0m \u001b[1m0s\u001b[0m 95ms/step - accuracy: 1.0000 - loss: 0.6457\n",
            "Epoch 6/10\n",
            "\u001b[1m1/1\u001b[0m \u001b[32m━━━━━━━━━━━━━━━━━━━━\u001b[0m\u001b[37m\u001b[0m \u001b[1m0s\u001b[0m 81ms/step - accuracy: 1.0000 - loss: 0.6250\n",
            "Epoch 7/10\n",
            "\u001b[1m1/1\u001b[0m \u001b[32m━━━━━━━━━━━━━━━━━━━━\u001b[0m\u001b[37m\u001b[0m \u001b[1m0s\u001b[0m 142ms/step - accuracy: 1.0000 - loss: 0.6009\n",
            "Epoch 8/10\n",
            "\u001b[1m1/1\u001b[0m \u001b[32m━━━━━━━━━━━━━━━━━━━━\u001b[0m\u001b[37m\u001b[0m \u001b[1m0s\u001b[0m 81ms/step - accuracy: 1.0000 - loss: 0.5635\n",
            "Epoch 9/10\n",
            "\u001b[1m1/1\u001b[0m \u001b[32m━━━━━━━━━━━━━━━━━━━━\u001b[0m\u001b[37m\u001b[0m \u001b[1m0s\u001b[0m 140ms/step - accuracy: 1.0000 - loss: 0.5245\n",
            "Epoch 10/10\n",
            "\u001b[1m1/1\u001b[0m \u001b[32m━━━━━━━━━━━━━━━━━━━━\u001b[0m\u001b[37m\u001b[0m \u001b[1m0s\u001b[0m 140ms/step - accuracy: 1.0000 - loss: 0.4748\n",
            "\u001b[1m1/1\u001b[0m \u001b[32m━━━━━━━━━━━━━━━━━━━━\u001b[0m\u001b[37m\u001b[0m \u001b[1m0s\u001b[0m 344ms/step\n",
            "Resume is not suitable for the job.\n"
          ]
        }
      ],
      "source": [
        "# Open the PDF file\n",
        "doc = fitz.open(\"Sajeevan.pdf\")\n",
        "out = open(\"output.txt\", \"w\", encoding=\"utf-8\")  # Open output file in text mode\n",
        "\n",
        "# Extract text from PDF\n",
        "for page in doc:\n",
        "    text = page.get_text(\"text\")  # Extract text\n",
        "    out.write(text + \"\\n\")  # Write text with newline for separation\n",
        "out.close()\n",
        "\n",
        "# Function to clean text\n",
        "def clean_text(text):\n",
        "    text = re.sub(r'\\s+', ' ', text)\n",
        "    text = re.sub(r'[^\\w.,]', ' ', text)\n",
        "    return text.strip()\n",
        "\n",
        "# Read the file\n",
        "with open(\"output.txt\", \"r\", encoding=\"utf-8\") as file:\n",
        "    resume_text = file.read()\n",
        "\n",
        "# Clean the text\n",
        "resume_text = clean_text(resume_text)\n",
        "print(resume_text)\n",
        "\n",
        "# Function to preprocess text\n",
        "def preprocess_text(text):\n",
        "    text = text.lower()\n",
        "    text = re.sub(r'[^a-zA-Z0-9\\s]', '', text)\n",
        "    return text.strip()\n",
        "\n",
        "# Sample job requirement\n",
        "job_requirements = \"\"\"\n",
        "Looking for a candidate with knowledge in Python, Java, and Power BI.\n",
        "Required skills:\n",
        "- Python Programming\n",
        "- Java Development\n",
        "- Data Visualization (Power BI)\n",
        "- Database\n",
        "\"\"\"\n",
        "job_requirements = preprocess_text(job_requirements)\n",
        "\n",
        "# Tokenization\n",
        "max_tokens = 1000\n",
        "max_length = 100\n",
        "vectorizer = TextVectorization(max_tokens=max_tokens, output_mode='int', output_sequence_length=max_length)\n",
        "vectorizer.adapt([job_requirements])\n",
        "\n",
        "# Model\n",
        "model = keras.Sequential([\n",
        "    Embedding(input_dim=max_tokens, output_dim=32, input_length=max_length),\n",
        "    LSTM(64, return_sequences=True),\n",
        "    Dropout(0.2),\n",
        "    LSTM(32),\n",
        "    Dense(16, activation='relu'),\n",
        "    Dense(1, activation='sigmoid')\n",
        "])\n",
        "\n",
        "model.compile(loss='binary_crossentropy', optimizer='adam', metrics=['accuracy'])\n",
        "\n",
        "# Convert job_requirements t\n",
        "X_train = vectorizer([job_requirements])\n",
        "y_train = np.array([1])\n",
        "\n",
        "# Train model\n",
        "model.fit(X_train, y_train, epochs=10, batch_size=1, verbose=1)\n",
        "\n",
        "# Function to evaluate a resume\n",
        "def evaluate_resume(resume_text):\n",
        "    resume_text = preprocess_text(resume_text)\n",
        "    input_data = vectorizer([resume_text])\n",
        "    prediction = model.predict(input_data)[0][0]\n",
        "    return \"Resume is suitable for the job.\" if prediction > 0.6 else \"Resume is not suitable for the job.\"\n",
        "\n",
        "# Example usage\n",
        "with open(\"output.txt\", \"r\", encoding=\"utf-8\") as file:\n",
        "    preprocessed_text = preprocess_text(file.read())\n",
        "    print(evaluate_resume(preprocessed_text))\n"
      ]
    }
  ]
}